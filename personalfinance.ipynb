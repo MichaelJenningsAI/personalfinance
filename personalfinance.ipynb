{
 "cells": [
  {
   "cell_type": "code",
   "execution_count": 40,
   "metadata": {},
   "outputs": [],
   "source": [
    "import streamlit as st\n",
    "import plotly as px\n",
    "import seaborn as sns\n",
    "import xgboost as xgb\n",
    "import pandas as pd\n",
    "import numpy as np\n",
    "import matplotlib.pyplot as plt\n",
    "import openpyxl as op\n",
    "from datetime import date,datetime,time,timedelta"
   ]
  },
  {
   "cell_type": "code",
   "execution_count": 2,
   "metadata": {},
   "outputs": [
    {
     "name": "stderr",
     "output_type": "stream",
     "text": [
      "e:\\dev\\py\\personalfinance\\venv\\lib\\site-packages\\openpyxl\\worksheet\\_reader.py:312: UserWarning: Unknown extension is not supported and will be removed\n",
      "  warn(msg)\n",
      "e:\\dev\\py\\personalfinance\\venv\\lib\\site-packages\\openpyxl\\worksheet\\_reader.py:312: UserWarning: Conditional Formatting extension is not supported and will be removed\n",
      "  warn(msg)\n",
      "e:\\dev\\py\\personalfinance\\venv\\lib\\site-packages\\openpyxl\\worksheet\\_reader.py:312: UserWarning: Sparkline Group extension is not supported and will be removed\n",
      "  warn(msg)\n"
     ]
    }
   ],
   "source": [
    "status = pd.read_excel (r'E:/Administration/Life.xlsx', sheet_name='Status')\n",
    "expenses = pd.read_excel (r'E:/Administration/Life.xlsx', sheet_name='Expenses')"
   ]
  },
  {
   "cell_type": "code",
   "execution_count": 48,
   "metadata": {},
   "outputs": [],
   "source": [
    "today=date.today()\n",
    "carpurchase = date(2020,9,30)"
   ]
  },
  {
   "cell_type": "code",
   "execution_count": 197,
   "metadata": {},
   "outputs": [],
   "source": [
    "#Car Cost Caluculations\n",
    "carvalue = 65400\n",
    "odometer = 22500\n",
    "cartimeowned = (today-carpurchase).days/365\n",
    "kmperyr = (odometer-335)/cartimeowned\n",
    "fuelprice=2.3\n",
    "fuelusage=10.2\n",
    "fuelperyr = kmperyr/100*fuelusage # fuel used each year\n",
    "fuelcostpa = fuelperyr*fuelprice # cost of fuel each year\n",
    "carservmean = pd.DataFrame(data={'Cost':[336,552,457,776,378,714,885]}).mean()\n",
    "carservpa = carservmean*(kmperyr/10000) # $ of servicing per year\n",
    "tyrecost = 1800     # $for all 4 replaced\n",
    "tyrefreq = 30000    # in Kms\n",
    "tyrepa = tyrecost*(kmperyr/30000)\n",
    "insurancecar = 12*137.76\n",
    "rego = 837.09\n",
    "carpa = fuelcostpa+carservpa+tyrepa+insurancecar+rego\n",
    "carthousandkm = carpa/kmperyr*1000\n",
    "businesscarcap = 60733 # the 2022 cap for car owned for business\n",
    "unidistance = 58.8 # distance to uni\n",
    "unifreq = 2 # how many times a week i go to uni\n",
    "unikms = unidistance * unifreq * 26 # 26 weeks in 2 semesters\n",
    "unicarperc = unikms/kmperyr # percentage use of car for uni\n",
    "unicarrc = unicarperc * carpa # car running cost for uni\n",
    "cardep = (businesscarcap*.75**(int(round(cartimeowned))-1))-(businesscarcap*.75**int(round(cartimeowned))) # car depreciation this fy\n",
    "unicardep = cardep*unicarperc # car depreciation for uni\n",
    "unicarcost = unicarrc+unicardep"
   ]
  },
  {
   "cell_type": "code",
   "execution_count": null,
   "metadata": {},
   "outputs": [],
   "source": [
    "#Incomes\n",
    "pretaxsalary = \n",
    "salary = \n",
    "pension = \n",
    "bonus = \n",
    "rentalincome = \n",
    "taxreturn = "
   ]
  },
  {
   "cell_type": "code",
   "execution_count": null,
   "metadata": {},
   "outputs": [],
   "source": [
    "#Expenses\n",
    "mortgage = \n",
    "carloan = \n",
    "\n",
    "insurancebuilding = \n",
    "insurancecontents = \n",
    "insurancelandlord = \n",
    "insuracehealth = \n",
    "rateszucc = \n",
    "waterzucc = \n",
    "rent = \n",
    "telstra = \n",
    "power = \n",
    "gym = \n",
    "haircuts = \n",
    "lifeexpenses = \n",
    "\n",
    "\n",
    "rateswang = \n",
    "waterwang = \n",
    "unifees = \n",
    "rentalmanagement = \n",
    "rentalannual = \n",
    "rentaladmin = \n",
    "advertising = "
   ]
  },
  {
   "cell_type": "code",
   "execution_count": 11,
   "metadata": {},
   "outputs": [],
   "source": [
    "#Assets\n",
    "housevalue = 600000\n"
   ]
  },
  {
   "cell_type": "code",
   "execution_count": null,
   "metadata": {},
   "outputs": [],
   "source": [
    "#Depreciating Assets\n",
    "mortgageinterest = \n",
    "capitalworks = \n",
    "capitalallowances = \n",
    "unicar = \n",
    "uniexpenses = \n",
    "uniassets = \n",
    "businesscar = \n",
    "businessexpenses = \n",
    "businessassets = \n",
    "wfmfixedrate = \n",
    "usagephone = \n",
    "usageinternet = "
   ]
  },
  {
   "cell_type": "code",
   "execution_count": 4,
   "metadata": {},
   "outputs": [],
   "source": [
    "status = status[['Date', 'Account 1', 'Account 2',\n",
    "       'Account 3', 'Account 4', 'Crypto', 'Shares Account', 'Shares',\n",
    "       'Car Loan', 'Home Loan']]\n",
    "status = status[status['Date'] < '2022-07-06']\n",
    "status = status[status['Date'] > '2020-09-22']\n",
    "status = status.reset_index(drop=True)"
   ]
  },
  {
   "cell_type": "code",
   "execution_count": 5,
   "metadata": {},
   "outputs": [],
   "source": [
    "expenses = expenses[['Date', 'Invest Prop.', 'Shopping', 'Home', 'Groceries',\n",
    "       'Transport', 'Utilities', 'Health', 'Eating Out', 'Entertainment',\n",
    "       'Cash', 'Travel', 'Education', 'Fees & Interest']]       \n",
    "expenses=expenses[14:]\n",
    "expenses = expenses.reset_index(drop=True)"
   ]
  },
  {
   "cell_type": "code",
   "execution_count": 12,
   "metadata": {},
   "outputs": [],
   "source": [
    "status['Equity'] = status['Account 1'] + status['Account 2'] + status['Account 3'] + status['Account 4'] + status['Crypto'] + status['Shares Account'] + status['Shares']\n",
    "status['Debt'] = status['Car Loan'] + status['Home Loan']\n",
    "status['Net Worth'] = status['Equity'] - status['Debt'] + HOUSEVALUE + CARVALUE"
   ]
  },
  {
   "cell_type": "code",
   "execution_count": 13,
   "metadata": {},
   "outputs": [],
   "source": [
    "networthrate = (status['Net Worth'][int(len(status.index)-1)] - status['Net Worth'][0])/len(status.index)"
   ]
  },
  {
   "cell_type": "code",
   "execution_count": 14,
   "metadata": {},
   "outputs": [
    {
     "data": {
      "text/plain": [
       "899.2488070393358"
      ]
     },
     "execution_count": 14,
     "metadata": {},
     "output_type": "execute_result"
    }
   ],
   "source": [
    "networthrate"
   ]
  },
  {
   "cell_type": "code",
   "execution_count": null,
   "metadata": {},
   "outputs": [],
   "source": []
  }
 ],
 "metadata": {
  "kernelspec": {
   "display_name": "Python 3.8.10 ('venv': venv)",
   "language": "python",
   "name": "python3"
  },
  "language_info": {
   "codemirror_mode": {
    "name": "ipython",
    "version": 3
   },
   "file_extension": ".py",
   "mimetype": "text/x-python",
   "name": "python",
   "nbconvert_exporter": "python",
   "pygments_lexer": "ipython3",
   "version": "3.8.10"
  },
  "orig_nbformat": 4,
  "vscode": {
   "interpreter": {
    "hash": "668dabbef166ffde3ec0d0cebfcd71473fe7eff113b31c0515de30e8a76e7301"
   }
  }
 },
 "nbformat": 4,
 "nbformat_minor": 2
}
