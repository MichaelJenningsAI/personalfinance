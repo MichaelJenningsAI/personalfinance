{
 "cells": [
  {
   "cell_type": "code",
   "execution_count": 4,
   "metadata": {},
   "outputs": [],
   "source": [
    "import streamlit as st\n",
    "import plotly as px\n",
    "import seaborn as sns\n",
    "import xgboost as xgb\n",
    "import pandas as pd\n",
    "import numpy as np\n",
    "import matplotlib.pyplot as plt\n",
    "import openpyxl as op"
   ]
  },
  {
   "cell_type": "code",
   "execution_count": 93,
   "metadata": {},
   "outputs": [
    {
     "name": "stderr",
     "output_type": "stream",
     "text": [
      "e:\\dev\\py\\personalfinance\\venv\\lib\\site-packages\\openpyxl\\worksheet\\_reader.py:312: UserWarning: Unknown extension is not supported and will be removed\n",
      "  warn(msg)\n",
      "e:\\dev\\py\\personalfinance\\venv\\lib\\site-packages\\openpyxl\\worksheet\\_reader.py:312: UserWarning: Conditional Formatting extension is not supported and will be removed\n",
      "  warn(msg)\n",
      "e:\\dev\\py\\personalfinance\\venv\\lib\\site-packages\\openpyxl\\worksheet\\_reader.py:312: UserWarning: Sparkline Group extension is not supported and will be removed\n",
      "  warn(msg)\n"
     ]
    }
   ],
   "source": [
    "status = pd.read_excel (r'E:/Administration/Life.xlsx', sheet_name='Status')\n",
    "expenses = pd.read_excel (r'E:/Administration/Life.xlsx', sheet_name='Expenses')"
   ]
  },
  {
   "cell_type": "code",
   "execution_count": null,
   "metadata": {},
   "outputs": [],
   "source": [
    "#Incomes\n",
    "Pre-Tax Salary\n",
    "Salary\n",
    "Pension\n",
    "Bonus\n",
    "House Rent\n"
   ]
  },
  {
   "cell_type": "code",
   "execution_count": null,
   "metadata": {},
   "outputs": [],
   "source": [
    "#Expenses\n",
    "Mortgage\n",
    "Building Insurance\n",
    "Contents Insurance\n",
    "Landlord Insurance\n",
    "Rates\n",
    "Water\n",
    "Health Insurance\n",
    "Rent\n",
    "Telstra\n",
    "Power\n",
    "Gym\n",
    "Haircuts\n",
    "Living (Food/Entertainment)\n",
    "60k Car Loan\n",
    "Car Insurance\n",
    "Car Rego\n",
    "Fuel (Calculator)\n",
    "Servicing (Calculator)\n",
    "Tyres (Calculator)\n",
    "Dobell Rates\n",
    "Dobell Water\n",
    "University\n",
    "Rental Management Fee\n",
    "Rental Annual Fee\n",
    "Rental Admin Fee\n"
   ]
  },
  {
   "cell_type": "code",
   "execution_count": 94,
   "metadata": {},
   "outputs": [],
   "source": [
    "#Assets\n",
    "HOUSEVALUE = 600000\n",
    "CARVALUE = 65400"
   ]
  },
  {
   "cell_type": "code",
   "execution_count": null,
   "metadata": {},
   "outputs": [],
   "source": [
    "#\n",
    "Interest on Loan\n",
    "Capital Works\n",
    "Capital Allowances\n",
    "University Car\n",
    "Business Deductions"
   ]
  },
  {
   "cell_type": "code",
   "execution_count": 95,
   "metadata": {},
   "outputs": [],
   "source": [
    "status = status[['Date', 'Account 1', 'Account 2',\n",
    "       'Account 3', 'Account 4', 'Crypto', 'Shares Account', 'Shares',\n",
    "       'Car Loan', 'Home Loan']]\n",
    "status = status[status['Date'] < '2022-07-06']\n",
    "status = status[status['Date'] > '2020-09-22']\n",
    "status = status.reset_index(drop=True)"
   ]
  },
  {
   "cell_type": "code",
   "execution_count": 96,
   "metadata": {},
   "outputs": [],
   "source": [
    "expenses = expenses[['Date', 'Invest Prop.', 'Shopping', 'Home', 'Groceries',\n",
    "       'Transport', 'Utilities', 'Health', 'Eating Out', 'Entertainment',\n",
    "       'Cash', 'Travel', 'Education', 'Fees & Interest']]       \n",
    "expenses=expenses[14:]\n",
    "expenses = expenses.reset_index(drop=True)"
   ]
  },
  {
   "cell_type": "code",
   "execution_count": 97,
   "metadata": {},
   "outputs": [],
   "source": [
    "status['Equity'] = status['Account 1'] + status['Account 2'] + status['Account 3'] + status['Account 4'] + status['Crypto'] + status['Shares Account'] + status['Shares']\n",
    "status['Debt'] = status['Car Loan'] + status['Home Loan']\n",
    "status['Net Worth'] = status['Equity'] - status['Debt'] + HOUSEVALUE + CARVALUE"
   ]
  },
  {
   "cell_type": "code",
   "execution_count": 113,
   "metadata": {},
   "outputs": [],
   "source": [
    "networthrate = (status['Net Worth'][int(len(status.index)-1)] - status['Net Worth'][0])/len(status.index)"
   ]
  },
  {
   "cell_type": "code",
   "execution_count": 112,
   "metadata": {},
   "outputs": [
    {
     "data": {
      "text/plain": [
       "899.2488070393358"
      ]
     },
     "execution_count": 112,
     "metadata": {},
     "output_type": "execute_result"
    }
   ],
   "source": [
    "savingrate"
   ]
  },
  {
   "cell_type": "code",
   "execution_count": null,
   "metadata": {},
   "outputs": [],
   "source": []
  }
 ],
 "metadata": {
  "kernelspec": {
   "display_name": "Python 3.8.10 ('venv': venv)",
   "language": "python",
   "name": "python3"
  },
  "language_info": {
   "codemirror_mode": {
    "name": "ipython",
    "version": 3
   },
   "file_extension": ".py",
   "mimetype": "text/x-python",
   "name": "python",
   "nbconvert_exporter": "python",
   "pygments_lexer": "ipython3",
   "version": "3.8.10"
  },
  "orig_nbformat": 4,
  "vscode": {
   "interpreter": {
    "hash": "668dabbef166ffde3ec0d0cebfcd71473fe7eff113b31c0515de30e8a76e7301"
   }
  }
 },
 "nbformat": 4,
 "nbformat_minor": 2
}
