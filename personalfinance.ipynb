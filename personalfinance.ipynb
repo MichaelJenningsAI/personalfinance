{
 "cells": [
  {
   "cell_type": "code",
   "execution_count": 578,
   "metadata": {},
   "outputs": [],
   "source": [
    "import streamlit as st\n",
    "import plotly as px\n",
    "import seaborn as sns\n",
    "import xgboost as xgb\n",
    "import pandas as pd\n",
    "import numpy as np\n",
    "import matplotlib.pyplot as plt\n",
    "import openpyxl as op\n",
    "from datetime import date,datetime,time,timedelta"
   ]
  },
  {
   "cell_type": "code",
   "execution_count": 579,
   "metadata": {},
   "outputs": [
    {
     "name": "stderr",
     "output_type": "stream",
     "text": [
      "e:\\dev\\py\\personalfinance\\venv\\lib\\site-packages\\openpyxl\\worksheet\\_reader.py:312: UserWarning: Unknown extension is not supported and will be removed\n",
      "  warn(msg)\n",
      "e:\\dev\\py\\personalfinance\\venv\\lib\\site-packages\\openpyxl\\worksheet\\_reader.py:312: UserWarning: Conditional Formatting extension is not supported and will be removed\n",
      "  warn(msg)\n",
      "e:\\dev\\py\\personalfinance\\venv\\lib\\site-packages\\openpyxl\\worksheet\\_reader.py:312: UserWarning: Sparkline Group extension is not supported and will be removed\n",
      "  warn(msg)\n"
     ]
    }
   ],
   "source": [
    "status = pd.read_excel (r'E:/Administration/Life.xlsx', sheet_name='Status')\n",
    "expenses = pd.read_excel (r'E:/Administration/Life.xlsx', sheet_name='Expenses')\n",
    "today=date.today()\n",
    "todayformatted = datetime.today().strftime('%Y-%m-%d')\n",
    "mortgagerate=.0449\n",
    "carloanrate=0.0679\n",
    "ftehours=38\n",
    "proratahours=38\n",
    "prorata=proratahours/ftehours"
   ]
  },
  {
   "cell_type": "code",
   "execution_count": 580,
   "metadata": {},
   "outputs": [],
   "source": [
    "#Current Assets\n",
    "housevalue = 600000\n",
    "carvalue = 65400\n",
    "furniture = 70000\n",
    "super = 210862.21\n",
    "cash = status['Account 1'][int(len(status.index)-1)] + status['Account 2'][int(len(status.index)-1)] + status['Account 3'][int(len(status.index)-1)] + status['Shares Account'][int(len(status.index)-1)]\n",
    "crypto = status['Crypto'][int(len(status.index)-1)]\n",
    "shares = status['Shares'][int(len(status.index)-1)]\n",
    "assetvalue = housevalue+carvalue+furniture+super+cash+crypto+shares\n",
    "\n",
    "#Current Debts\n",
    "mortgagecurrent = status['Home Loan'][int(len(status.index)-1)]\n",
    "carloancurrent = status['Car Loan'][int(len(status.index)-1)]\n",
    "debtvalue = mortgagecurrent+carloancurrent\n",
    "\n",
    "#Current Networth\n",
    "networth=assetvalue-debtvalue"
   ]
  },
  {
   "cell_type": "code",
   "execution_count": 581,
   "metadata": {},
   "outputs": [],
   "source": [
    "#Car Cost Caluculations\n",
    "odometer = 22500\n",
    "carpurchase = date(2020,9,30)\n",
    "cartimeowned = (today-carpurchase).days/365\n",
    "kmperyr = (odometer-335)/cartimeowned\n",
    "fuelprice=2.3\n",
    "fuelusage=10.2\n",
    "fuelperyr = kmperyr/100*fuelusage # fuel used each year\n",
    "fuelcostpa = fuelperyr*fuelprice # cost of fuel each year\n",
    "carservmean = pd.DataFrame(data={336,552,457,776,378,714,885}).mean()\n",
    "carservpa = carservmean*(kmperyr/10000) # $ of servicing per year\n",
    "tyrecost = 1800     # $for all 4 replaced\n",
    "tyrefreq = 30000    # in Kms\n",
    "tyrepa = tyrecost*(kmperyr/30000)\n",
    "insurancecar = 12*137.76\n",
    "rego = 837.09\n",
    "carpa = fuelcostpa+carservpa+tyrepa+insurancecar+rego\n",
    "carthousandkm = carpa/kmperyr*1000\n",
    "businesscarcap = 60733 # the 2022 cap for car owned for business\n",
    "unidistance = 58.8 # distance to uni\n",
    "unifreq = 2 # how many times a week i go to uni\n",
    "unikms = unidistance * unifreq * 26 # 26 weeks in 2 semesters\n",
    "unicarperc = unikms/kmperyr # percentage use of car for uni\n",
    "unicarrc = unicarperc * carpa # car running cost for uni\n",
    "cardep = (businesscarcap*.75**(int(round(cartimeowned))-1))-(businesscarcap*.75**int(round(cartimeowned))) # car depreciation this fy\n",
    "unicardep = cardep*unicarperc # car depreciation for uni\n",
    "unicarcost = unicarrc+unicardep"
   ]
  },
  {
   "cell_type": "code",
   "execution_count": 582,
   "metadata": {},
   "outputs": [],
   "source": [
    "#Incomes\n",
    "pretaxsalary = 107110.5*prorata\n",
    "bonus = 0.07*pretaxsalary*prorata\n",
    "salary = pretaxsalary-(((pretaxsalary)-45000)*0.325+5092)\n",
    "pension = 26*6.4\n",
    "aftertaxincome = salary+pension+salary*0.07\n",
    "rentalincome = 52*625"
   ]
  },
  {
   "cell_type": "code",
   "execution_count": 583,
   "metadata": {},
   "outputs": [],
   "source": [
    "status = status[['Date', 'Account 1', 'Account 2',\n",
    "       'Account 3', 'Account 4', 'Crypto', 'Shares Account', 'Shares',\n",
    "       'Car Loan', 'Home Loan']]\n",
    "status = status[status['Date'] < todayformatted]\n",
    "status = status[status['Date'] > '2020-09-22']\n",
    "status = status.reset_index(drop=True)\n",
    "\n",
    "status['Equity'] = status['Account 1'] + status['Account 2'] + status['Account 3'] + status['Account 4'] + status['Crypto'] + status['Shares Account'] + status['Shares']\n",
    "status['Debt'] = status['Car Loan'] + status['Home Loan']\n",
    "status['Net Worth'] = status['Equity'] - status['Debt'] + HOUSEVALUE + CARVALUE\n",
    "\n",
    "networthrate = (status['Net Worth'][int(len(status.index)-1)] - status['Net Worth'][0])/len(status.index)"
   ]
  },
  {
   "cell_type": "code",
   "execution_count": 584,
   "metadata": {},
   "outputs": [],
   "source": [
    "#Expenses\n",
    "mortgagemin = 26 * 1028.04\n",
    "carloanmin = 12 * 903.39\n",
    "insurancebuilding = 12*128.6\n",
    "insurancecontents = 12*42.74\n",
    "insurancelandlord = 232.84\n",
    "insuracehealth = 12*137.46\n",
    "rateszucc = 4*434\n",
    "waterzucc = 1547\n",
    "rent = 52*200\n",
    "telstra = 12*166\n",
    "power = 4*400\n",
    "gym = 0\n",
    "haircuts = 52/6*32\n",
    "rateswang = 4*203\n",
    "waterwang = 4*200\n",
    "unifees =  1720.14 \n",
    "rentalmanagement = (rentalincome*0.09)*1.1\n",
    "rentalannual = rentalincome*1.1/52\n",
    "rentaladmin = 12*15*1.1\n",
    "advertising = 220\n",
    "maintenance = 615\n",
    "\n",
    "expenses = expenses[['Date', 'Invest Prop.', 'Shopping', 'Home', 'Groceries',\n",
    "       'Transport', 'Utilities', 'Health', 'Eating Out', 'Entertainment',\n",
    "       'Cash', 'Travel', 'Education', 'Fees & Interest']]       \n",
    "expenses=expenses[14:]\n",
    "expenses = expenses.reset_index(drop=True)\n",
    "\n",
    "lifeexpenses = expenses[len(expenses.index)-12:len(expenses.index)-1]\n",
    "lifeexpenses = lifeexpenses[['Groceries','Eating Out','Entertainment','Cash','Fees & Interest']]\n",
    "lifeexpenses = lifeexpenses.mean().sum()*12"
   ]
  },
  {
   "cell_type": "code",
   "execution_count": 585,
   "metadata": {},
   "outputs": [],
   "source": [
    "#Tax stuff\n",
    "capitalworks = 9420\n",
    "capitalallowances = 1631 \n",
    "\n",
    "businessinternet = 0.5 * telstra\n",
    "wfhdays = 199\n",
    "wfhfixedrate = 0.52 * wfhdays\n",
    "wfhcost = businessinternet+wfhfixedrate\n",
    "\n",
    "extradeduction=1000"
   ]
  },
  {
   "cell_type": "code",
   "execution_count": 586,
   "metadata": {},
   "outputs": [],
   "source": [
    "#Tax Calculations\n",
    "mortgageinterest = mortgagecurrent*mortgagerate\n",
    "totaldeductions = rateszucc+waterzucc+rentalmanagement+rentalannual+rentaladmin+advertising+maintenance+mortgageinterest+insurancebuilding+insurancelandlord+capitalworks+capitalallowances+wfhcost+extradeduction+unicarcost+unifees\n",
    "totalincome = pretaxsalary+pension+bonus+rentalincome\n",
    "taxableincome = totalincome - totaldeductions\n",
    "taxowed = (taxableincome-45000)*0.325+5092\n",
    "taxpaid = ((pretaxsalary+bonus)-45000)*0.325+5092\n",
    "taxreturn = taxpaid - taxowed\n",
    "rentalinpocket = rentalincome-rentalmanagement-rentalannual-rentaladmin-advertising-maintenance\n",
    "inpocketincome = aftertaxincome+rentalinpocket+taxreturn\n",
    "lifeexpenses = mortgagemin+carloanmin+insurancebuilding+insurancecontents+insurancelandlord+insuracehealth+rateszucc+waterzucc+rent+telstra+power+gym+haircuts+rateswang+waterwang+unifees+lifeexpenses+carpa\n",
    "savingpotential=inpocketincome-lifeexpenses"
   ]
  },
  {
   "cell_type": "code",
   "execution_count": 587,
   "metadata": {},
   "outputs": [
    {
     "data": {
      "text/plain": [
       "0    33494.455344\n",
       "dtype: float64"
      ]
     },
     "execution_count": 587,
     "metadata": {},
     "output_type": "execute_result"
    }
   ],
   "source": [
    "totaldeductions"
   ]
  },
  {
   "cell_type": "code",
   "execution_count": 588,
   "metadata": {},
   "outputs": [
    {
     "data": {
      "text/plain": [
       "147274.635"
      ]
     },
     "execution_count": 588,
     "metadata": {},
     "output_type": "execute_result"
    }
   ],
   "source": [
    "totalincome"
   ]
  },
  {
   "cell_type": "code",
   "execution_count": 589,
   "metadata": {},
   "outputs": [
    {
     "data": {
      "text/plain": [
       "0    113780.179656\n",
       "dtype: float64"
      ]
     },
     "execution_count": 589,
     "metadata": {},
     "output_type": "execute_result"
    }
   ],
   "source": [
    "taxableincome"
   ]
  },
  {
   "cell_type": "code",
   "execution_count": 590,
   "metadata": {},
   "outputs": [
    {
     "data": {
      "text/plain": [
       "0    27445.558388\n",
       "dtype: float64"
      ]
     },
     "execution_count": 590,
     "metadata": {},
     "output_type": "execute_result"
    }
   ],
   "source": [
    "taxowed"
   ]
  },
  {
   "cell_type": "code",
   "execution_count": 591,
   "metadata": {},
   "outputs": [
    {
     "data": {
      "text/plain": [
       "27714.676375000003"
      ]
     },
     "execution_count": 591,
     "metadata": {},
     "output_type": "execute_result"
    }
   ],
   "source": [
    "taxpaid"
   ]
  },
  {
   "cell_type": "code",
   "execution_count": 592,
   "metadata": {},
   "outputs": [
    {
     "data": {
      "text/plain": [
       "0    269.117987\n",
       "dtype: float64"
      ]
     },
     "execution_count": 592,
     "metadata": {},
     "output_type": "execute_result"
    }
   ],
   "source": [
    "taxreturn"
   ]
  },
  {
   "cell_type": "code",
   "execution_count": 593,
   "metadata": {},
   "outputs": [
    {
     "data": {
      "text/plain": [
       "0    115558.386612\n",
       "dtype: float64"
      ]
     },
     "execution_count": 593,
     "metadata": {},
     "output_type": "execute_result"
    }
   ],
   "source": [
    "inpocketincome"
   ]
  },
  {
   "cell_type": "code",
   "execution_count": 594,
   "metadata": {},
   "outputs": [
    {
     "data": {
      "text/plain": [
       "0    34201.972442\n",
       "dtype: float64"
      ]
     },
     "execution_count": 594,
     "metadata": {},
     "output_type": "execute_result"
    }
   ],
   "source": [
    "savingpotential"
   ]
  }
 ],
 "metadata": {
  "kernelspec": {
   "display_name": "Python 3.8.10 ('venv': venv)",
   "language": "python",
   "name": "python3"
  },
  "language_info": {
   "codemirror_mode": {
    "name": "ipython",
    "version": 3
   },
   "file_extension": ".py",
   "mimetype": "text/x-python",
   "name": "python",
   "nbconvert_exporter": "python",
   "pygments_lexer": "ipython3",
   "version": "3.8.10"
  },
  "orig_nbformat": 4,
  "vscode": {
   "interpreter": {
    "hash": "668dabbef166ffde3ec0d0cebfcd71473fe7eff113b31c0515de30e8a76e7301"
   }
  }
 },
 "nbformat": 4,
 "nbformat_minor": 2
}
